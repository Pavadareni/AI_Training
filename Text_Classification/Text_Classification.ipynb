{
  "nbformat": 4,
  "nbformat_minor": 0,
  "metadata": {
    "colab": {
      "provenance": [],
      "gpuType": "T4",
      "authorship_tag": "ABX9TyPA/VJLwwN+eqrP7NuhSwwX",
      "include_colab_link": true
    },
    "kernelspec": {
      "name": "python3",
      "display_name": "Python 3"
    },
    "language_info": {
      "name": "python"
    },
    "accelerator": "GPU"
  },
  "cells": [
    {
      "cell_type": "markdown",
      "metadata": {
        "id": "view-in-github",
        "colab_type": "text"
      },
      "source": [
        "<a href=\"https://colab.research.google.com/github/Pavadareni/AI_Training/blob/main/Text_Classification/Text_Classification.ipynb\" target=\"_parent\"><img src=\"https://colab.research.google.com/assets/colab-badge.svg\" alt=\"Open In Colab\"/></a>"
      ]
    },
    {
      "cell_type": "markdown",
      "source": [
        "The project involves in text classification. The model used is twitter-roberta-base-sentiment-latest. This model is used in twitter algorithm. It classifies positive negative and neutral. It also classifies the emojies and other special character."
      ],
      "metadata": {
        "id": "Y1Aabw1-Kj0K"
      }
    },
    {
      "cell_type": "code",
      "source": [
        "from transformers import pipeline\n",
        "from sklearn.metrics import classification_report, confusion_matrix\n",
        "import matplotlib.pyplot as plt\n",
        "import numpy as np\n",
        "import re\n"
      ],
      "metadata": {
        "id": "Qg_Y2B3FrQfY"
      },
      "execution_count": 2,
      "outputs": []
    },
    {
      "cell_type": "code",
      "source": [
        "sentiment_pipeline = pipeline(\"sentiment-analysis\", model=\"cardiffnlp/twitter-roberta-base-sentiment-latest\")"
      ],
      "metadata": {
        "colab": {
          "base_uri": "https://localhost:8080/"
        },
        "id": "Hq0NEDR2ItCs",
        "outputId": "f41c176d-e10d-420c-f3ac-1dbc1f784397"
      },
      "execution_count": 3,
      "outputs": [
        {
          "output_type": "stream",
          "name": "stderr",
          "text": [
            "Some weights of the model checkpoint at cardiffnlp/twitter-roberta-base-sentiment-latest were not used when initializing RobertaForSequenceClassification: ['roberta.pooler.dense.bias', 'roberta.pooler.dense.weight']\n",
            "- This IS expected if you are initializing RobertaForSequenceClassification from the checkpoint of a model trained on another task or with another architecture (e.g. initializing a BertForSequenceClassification model from a BertForPreTraining model).\n",
            "- This IS NOT expected if you are initializing RobertaForSequenceClassification from the checkpoint of a model that you expect to be exactly identical (initializing a BertForSequenceClassification model from a BertForSequenceClassification model).\n",
            "Hardware accelerator e.g. GPU is available in the environment, but no `device` argument is passed to the `Pipeline` object. Model will be on CPU.\n"
          ]
        }
      ]
    },
    {
      "cell_type": "code",
      "source": [
        "# Lists to store user inputs, predicted labels, and confidences\n",
        "texts = []\n",
        "predicted_labels = []\n",
        "confidences = []\n",
        "\n",
        "# Map for label adjustment\n",
        "label_map = {\"negative\": 0, \"neutral\": 1, \"positive\": 2}"
      ],
      "metadata": {
        "id": "pnVLfICNIxdF"
      },
      "execution_count": 4,
      "outputs": []
    },
    {
      "cell_type": "code",
      "source": [
        "# Text preprocessing function with additional steps\n",
        "def preprocess_text(text):\n",
        "    text = text.lower()\n",
        "    text = re.sub(r\"[^\\w\\s]\", \"\", text)  # Remove punctuation\n",
        "    text = re.sub(r\"\\s+\", \" \", text).strip()  # Remove extra spaces\n",
        "    return text"
      ],
      "metadata": {
        "id": "CUawC6JiI1DH"
      },
      "execution_count": 5,
      "outputs": []
    },
    {
      "cell_type": "code",
      "source": [
        "def adjust_label(prediction):\n",
        "    confidence = prediction['score']\n",
        "    if confidence > 0.7:\n",
        "        return \"positive\"\n",
        "    elif 0.4 < confidence <= 0.7:\n",
        "        return \"neutral\"\n",
        "    else:\n",
        "        return \"negative\"\n"
      ],
      "metadata": {
        "id": "OrFGX0GJJDvs"
      },
      "execution_count": 6,
      "outputs": []
    },
    {
      "cell_type": "code",
      "source": [
        "print(\"Enter text to analyze sentiment (type 'exit' to finish):\")\n"
      ],
      "metadata": {
        "colab": {
          "base_uri": "https://localhost:8080/"
        },
        "id": "ezezCAiCJa1g",
        "outputId": "56de2bba-6276-4b6c-e2b5-bc94ea602924"
      },
      "execution_count": 7,
      "outputs": [
        {
          "output_type": "stream",
          "name": "stdout",
          "text": [
            "Enter text to analyze sentiment (type 'exit' to finish):\n"
          ]
        }
      ]
    },
    {
      "cell_type": "code",
      "source": [
        "while True:\n",
        "    user_input = input(\"Text: \")\n",
        "    if user_input.lower() == \"exit\":\n",
        "        break\n",
        "\n",
        "    # Preprocess text\n",
        "    processed_text = preprocess_text(user_input)\n",
        "    texts.append(processed_text)\n",
        "\n",
        "    # Predict and adjust sentiment\n",
        "    prediction = sentiment_pipeline(processed_text)[0]\n",
        "    adjusted_label = adjust_label(prediction)\n",
        "    predicted_label = label_map.get(adjusted_label, 1)  # Default to \"neutral\"\n",
        "    confidence = prediction['score']\n",
        "    confidences.append(confidence)\n",
        "    predicted_labels.append(predicted_label)\n",
        "\n",
        "    print(f\"Predicted Sentiment: {adjusted_label.capitalize()} (Confidence: {confidence:.2f})\")\n"
      ],
      "metadata": {
        "colab": {
          "base_uri": "https://localhost:8080/"
        },
        "id": "pQQ4SuVdJeS1",
        "outputId": "f88ed86e-858b-405c-e169-ce02083e3e8b"
      },
      "execution_count": 8,
      "outputs": [
        {
          "name": "stdout",
          "output_type": "stream",
          "text": [
            "Text: its impossible\n",
            "Predicted Sentiment: Neutral (Confidence: 0.67)\n",
            "Text: i never do that work\n",
            "Predicted Sentiment: Positive (Confidence: 0.77)\n",
            "Text: this is incorrect\n",
            "Predicted Sentiment: Neutral (Confidence: 0.65)\n",
            "Text: this is not true\n",
            "Predicted Sentiment: Neutral (Confidence: 0.48)\n",
            "Text: you are bad \n",
            "Predicted Sentiment: Positive (Confidence: 0.87)\n",
            "Text: negative \n",
            "Predicted Sentiment: Neutral (Confidence: 0.49)\n",
            "Text: null\n",
            "Predicted Sentiment: Neutral (Confidence: 0.60)\n",
            "Text: exit\n"
          ]
        }
      ]
    },
    {
      "cell_type": "code",
      "source": [
        "avg_confidence = np.mean(confidences)\n",
        "print(f\"\\nAverage Model Confidence: {avg_confidence:.2f}\")\n"
      ],
      "metadata": {
        "colab": {
          "base_uri": "https://localhost:8080/"
        },
        "id": "58icu-2EJg3x",
        "outputId": "c6d57ea5-7c38-4b79-a25b-dbe07c46ff82"
      },
      "execution_count": 9,
      "outputs": [
        {
          "output_type": "stream",
          "name": "stdout",
          "text": [
            "\n",
            "Average Model Confidence: 0.65\n"
          ]
        }
      ]
    },
    {
      "cell_type": "code",
      "source": [
        "sentiment_count = {\n",
        "    \"Positive\": predicted_labels.count(2),\n",
        "    \"Neutral\": predicted_labels.count(1),\n",
        "    \"Negative\": predicted_labels.count(0)\n",
        "}\n"
      ],
      "metadata": {
        "id": "1HrBn9-lJ8XC"
      },
      "execution_count": 10,
      "outputs": []
    },
    {
      "cell_type": "code",
      "source": [
        "colors = {'Positive': 'green', 'Neutral': 'yellow', 'Negative': 'red'}\n",
        "plt.figure(figsize=(8, 6))\n",
        "bars = plt.bar(sentiment_count.keys(), sentiment_count.values(), color=[colors[sent] for sent in sentiment_count.keys()])\n",
        "plt.xlabel('Sentiment')\n",
        "plt.ylabel('Count')\n",
        "plt.title('Sentiment Classification of Sentences')\n",
        "\n",
        "total = sum(sentiment_count.values())\n",
        "for bar, sentiment in zip(bars, sentiment_count.keys()):\n",
        "    yval = bar.get_height()\n",
        "    percentage = (yval / total) * 100\n",
        "    plt.text(bar.get_x() + bar.get_width() / 2, yval + 1, f\"{percentage:.1f}%\", ha='center', fontsize=10)\n",
        "plt.legend(bars, sentiment_count.keys(), loc='upper right')\n",
        "plt.figtext(0.5, 0.01, \"Sentiment classification using cardiffnlp/twitter-roberta-base-sentiment-latest model\", ha=\"center\", fontsize=10)\n",
        "plt.show()\n"
      ],
      "metadata": {
        "colab": {
          "base_uri": "https://localhost:8080/",
          "height": 639
        },
        "id": "PDJnXU0jKDoH",
        "outputId": "56149cc0-4244-47cb-9539-dc96516bb751"
      },
      "execution_count": 17,
      "outputs": [
        {
          "output_type": "display_data",
          "data": {
            "text/plain": [
              "<Figure size 800x600 with 1 Axes>"
            ],
            "image/png": "[encoded data removed]"
          },
          "metadata": {}
        }
      ]
    },
    {
      "cell_type": "code",
      "source": [],
      "metadata": {
        "id": "cpYHKw9lKFsJ"
      },
      "execution_count": null,
      "outputs": []
    }
  ]
}