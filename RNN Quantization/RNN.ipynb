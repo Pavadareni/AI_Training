{
  "nbformat": 4,
  "nbformat_minor": 0,
  "metadata": {
    "colab": {
      "provenance": [],
      "authorship_tag": "ABX9TyMyIfMZrq8xio4BlaDcfBkp",
      "include_colab_link": true
    },
    "kernelspec": {
      "name": "python3",
      "display_name": "Python 3"
    },
    "language_info": {
      "name": "python"
    }
  },
  "cells": [
    {
      "cell_type": "markdown",
      "metadata": {
        "id": "view-in-github",
        "colab_type": "text"
      },
      "source": [
        "<a href=\"https://colab.research.google.com/github/Pavadareni/AI_Training/blob/main/RNN%20Quantization/RNN.ipynb\" target=\"_parent\"><img src=\"https://colab.research.google.com/assets/colab-badge.svg\" alt=\"Open In Colab\"/></a>"
      ]
    },
    {
      "cell_type": "code",
      "execution_count": 2,
      "metadata": {
        "colab": {
          "base_uri": "https://localhost:8080/"
        },
        "id": "C-rLe4_XGsST",
        "outputId": "9f2ad1e8-ec06-4cba-dbb6-ae4f10c5caec"
      },
      "outputs": [
        {
          "output_type": "stream",
          "name": "stdout",
          "text": [
            "Epoch 1/20\n"
          ]
        },
        {
          "output_type": "stream",
          "name": "stderr",
          "text": [
            "/usr/local/lib/python3.10/dist-packages/keras/src/layers/rnn/rnn.py:204: UserWarning: Do not pass an `input_shape`/`input_dim` argument to a layer. When using Sequential models, prefer using an `Input(shape)` object as the first layer in the model instead.\n",
            "  super().__init__(**kwargs)\n"
          ]
        },
        {
          "output_type": "stream",
          "name": "stdout",
          "text": [
            "\u001b[1m32/32\u001b[0m \u001b[32m━━━━━━━━━━━━━━━━━━━━\u001b[0m\u001b[37m\u001b[0m \u001b[1m2s\u001b[0m 18ms/step - loss: 595.1750 - mean_absolute_error: 24.0348 - val_loss: 292.2782 - val_mean_absolute_error: 17.0058\n",
            "Epoch 2/20\n",
            "\u001b[1m32/32\u001b[0m \u001b[32m━━━━━━━━━━━━━━━━━━━━\u001b[0m\u001b[37m\u001b[0m \u001b[1m0s\u001b[0m 12ms/step - loss: 157.1952 - mean_absolute_error: 11.1721 - val_loss: 7.5851 - val_mean_absolute_error: 2.6083\n",
            "Epoch 3/20\n",
            "\u001b[1m32/32\u001b[0m \u001b[32m━━━━━━━━━━━━━━━━━━━━\u001b[0m\u001b[37m\u001b[0m \u001b[1m0s\u001b[0m 11ms/step - loss: 3.9013 - mean_absolute_error: 1.6774 - val_loss: 1.4150 - val_mean_absolute_error: 0.9769\n",
            "Epoch 4/20\n",
            "\u001b[1m32/32\u001b[0m \u001b[32m━━━━━━━━━━━━━━━━━━━━\u001b[0m\u001b[37m\u001b[0m \u001b[1m1s\u001b[0m 11ms/step - loss: 0.8691 - mean_absolute_error: 0.7457 - val_loss: 0.7364 - val_mean_absolute_error: 0.6934\n",
            "Epoch 5/20\n",
            "\u001b[1m32/32\u001b[0m \u001b[32m━━━━━━━━━━━━━━━━━━━━\u001b[0m\u001b[37m\u001b[0m \u001b[1m0s\u001b[0m 11ms/step - loss: 0.5256 - mean_absolute_error: 0.5822 - val_loss: 0.6408 - val_mean_absolute_error: 0.6556\n",
            "Epoch 6/20\n",
            "\u001b[1m32/32\u001b[0m \u001b[32m━━━━━━━━━━━━━━━━━━━━\u001b[0m\u001b[37m\u001b[0m \u001b[1m1s\u001b[0m 11ms/step - loss: 0.5258 - mean_absolute_error: 0.5917 - val_loss: 0.6577 - val_mean_absolute_error: 0.6572\n",
            "Epoch 7/20\n",
            "\u001b[1m32/32\u001b[0m \u001b[32m━━━━━━━━━━━━━━━━━━━━\u001b[0m\u001b[37m\u001b[0m \u001b[1m1s\u001b[0m 11ms/step - loss: 0.5189 - mean_absolute_error: 0.5791 - val_loss: 0.6501 - val_mean_absolute_error: 0.6612\n",
            "Epoch 8/20\n",
            "\u001b[1m32/32\u001b[0m \u001b[32m━━━━━━━━━━━━━━━━━━━━\u001b[0m\u001b[37m\u001b[0m \u001b[1m1s\u001b[0m 11ms/step - loss: 0.5557 - mean_absolute_error: 0.6000 - val_loss: 0.6178 - val_mean_absolute_error: 0.6382\n",
            "Epoch 9/20\n",
            "\u001b[1m32/32\u001b[0m \u001b[32m━━━━━━━━━━━━━━━━━━━━\u001b[0m\u001b[37m\u001b[0m \u001b[1m0s\u001b[0m 13ms/step - loss: 0.5440 - mean_absolute_error: 0.5878 - val_loss: 0.6010 - val_mean_absolute_error: 0.6312\n",
            "Epoch 10/20\n",
            "\u001b[1m32/32\u001b[0m \u001b[32m━━━━━━━━━━━━━━━━━━━━\u001b[0m\u001b[37m\u001b[0m \u001b[1m0s\u001b[0m 11ms/step - loss: 0.5527 - mean_absolute_error: 0.5989 - val_loss: 0.6001 - val_mean_absolute_error: 0.6287\n",
            "Epoch 11/20\n",
            "\u001b[1m32/32\u001b[0m \u001b[32m━━━━━━━━━━━━━━━━━━━━\u001b[0m\u001b[37m\u001b[0m \u001b[1m0s\u001b[0m 13ms/step - loss: 0.5085 - mean_absolute_error: 0.5761 - val_loss: 0.5829 - val_mean_absolute_error: 0.6214\n",
            "Epoch 12/20\n",
            "\u001b[1m32/32\u001b[0m \u001b[32m━━━━━━━━━━━━━━━━━━━━\u001b[0m\u001b[37m\u001b[0m \u001b[1m1s\u001b[0m 12ms/step - loss: 0.5036 - mean_absolute_error: 0.5655 - val_loss: 0.6631 - val_mean_absolute_error: 0.6590\n",
            "Epoch 13/20\n",
            "\u001b[1m32/32\u001b[0m \u001b[32m━━━━━━━━━━━━━━━━━━━━\u001b[0m\u001b[37m\u001b[0m \u001b[1m1s\u001b[0m 15ms/step - loss: 0.6475 - mean_absolute_error: 0.6364 - val_loss: 0.5608 - val_mean_absolute_error: 0.6105\n",
            "Epoch 14/20\n",
            "\u001b[1m32/32\u001b[0m \u001b[32m━━━━━━━━━━━━━━━━━━━━\u001b[0m\u001b[37m\u001b[0m \u001b[1m0s\u001b[0m 11ms/step - loss: 0.6984 - mean_absolute_error: 0.6740 - val_loss: 0.5720 - val_mean_absolute_error: 0.6196\n",
            "Epoch 15/20\n",
            "\u001b[1m32/32\u001b[0m \u001b[32m━━━━━━━━━━━━━━━━━━━━\u001b[0m\u001b[37m\u001b[0m \u001b[1m0s\u001b[0m 11ms/step - loss: 0.4770 - mean_absolute_error: 0.5608 - val_loss: 0.6058 - val_mean_absolute_error: 0.6374\n",
            "Epoch 16/20\n",
            "\u001b[1m32/32\u001b[0m \u001b[32m━━━━━━━━━━━━━━━━━━━━\u001b[0m\u001b[37m\u001b[0m \u001b[1m0s\u001b[0m 12ms/step - loss: 0.4963 - mean_absolute_error: 0.5564 - val_loss: 0.5255 - val_mean_absolute_error: 0.5925\n",
            "Epoch 17/20\n",
            "\u001b[1m32/32\u001b[0m \u001b[32m━━━━━━━━━━━━━━━━━━━━\u001b[0m\u001b[37m\u001b[0m \u001b[1m0s\u001b[0m 15ms/step - loss: 0.4835 - mean_absolute_error: 0.5595 - val_loss: 0.5250 - val_mean_absolute_error: 0.5893\n",
            "Epoch 18/20\n",
            "\u001b[1m32/32\u001b[0m \u001b[32m━━━━━━━━━━━━━━━━━━━━\u001b[0m\u001b[37m\u001b[0m \u001b[1m1s\u001b[0m 19ms/step - loss: 0.4416 - mean_absolute_error: 0.5380 - val_loss: 0.8200 - val_mean_absolute_error: 0.7319\n",
            "Epoch 19/20\n",
            "\u001b[1m32/32\u001b[0m \u001b[32m━━━━━━━━━━━━━━━━━━━━\u001b[0m\u001b[37m\u001b[0m \u001b[1m1s\u001b[0m 18ms/step - loss: 0.5425 - mean_absolute_error: 0.5902 - val_loss: 0.5098 - val_mean_absolute_error: 0.5814\n",
            "Epoch 20/20\n",
            "\u001b[1m32/32\u001b[0m \u001b[32m━━━━━━━━━━━━━━━━━━━━\u001b[0m\u001b[37m\u001b[0m \u001b[1m1s\u001b[0m 18ms/step - loss: 0.4286 - mean_absolute_error: 0.5342 - val_loss: 0.7707 - val_mean_absolute_error: 0.7191\n"
          ]
        },
        {
          "output_type": "stream",
          "name": "stderr",
          "text": [
            "WARNING:absl:You are saving your model as an HDF5 file via `model.save()` or `keras.saving.save_model(model)`. This file format is considered legacy. We recommend using instead the native Keras format, e.g. `model.save('my_model.keras')` or `keras.saving.save_model(model, 'my_model.keras')`. \n"
          ]
        }
      ],
      "source": [
        "#normal rnn model\n",
        "\n",
        "import numpy as np\n",
        "from tensorflow.keras.models import Sequential\n",
        "from tensorflow.keras.layers import SimpleRNN, Dense\n",
        "from tensorflow.keras.optimizers import Adam\n",
        "from tensorflow.keras.losses import MeanSquaredError\n",
        "from tensorflow.keras.metrics import MeanAbsoluteError\n",
        "\n",
        "\n",
        "def get_dataset(num_samples):\n",
        "    x = np.random.rand(num_samples, 50, 1)\n",
        "    y = np.sum(x, axis=1)\n",
        "    return x, y\n",
        "\n",
        "x_train, y_train = get_dataset(1000)\n",
        "x_test, y_test = get_dataset(200)\n",
        "\n",
        "epochs = 20\n",
        "batch_size = 32\n",
        "learning_rate = 0.001\n",
        "\n",
        "seq_length = x_train.shape[1]\n",
        "input_dim = x_train.shape[2]\n",
        "\n",
        "model = Sequential([\n",
        "    SimpleRNN(64, input_shape=(seq_length, input_dim), activation='relu'),\n",
        "    Dense(1)\n",
        "])\n",
        "\n",
        "model.compile(\n",
        "    optimizer=Adam(learning_rate=learning_rate),\n",
        "    loss=MeanSquaredError(),\n",
        "    metrics=[MeanAbsoluteError()]\n",
        ")\n",
        "\n",
        "history = model.fit(\n",
        "    x_train, y_train,\n",
        "    validation_data=(x_test, y_test),\n",
        "    epochs=epochs,\n",
        "    batch_size=batch_size,\n",
        "    verbose=1\n",
        ")\n",
        "model.save('rnn_model.h5')"
      ]
    },
    {
      "cell_type": "code",
      "source": [
        "#Quantization\n",
        "import tensorflow as tf\n",
        "model = tf.keras.models.load_model('rnn_model.h5')\n",
        "converter = tf.lite.TFLiteConverter.from_keras_model(model)\n",
        "converter.optimizations = [tf.lite.Optimize.DEFAULT]\n",
        "\n",
        "converter.target_spec.supported_ops = [\n",
        "    tf.lite.OpsSet.TFLITE_BUILTINS,\n",
        "    tf.lite.OpsSet.SELECT_TF_OPS\n",
        "]\n",
        "converter._experimental_lower_tensor_list_ops = False\n",
        "tflite_model = converter.convert()\n",
        "with open(\"quantized_rnn_model.tflite\", \"wb\") as f:\n",
        "    f.write(tflite_model)\n",
        "\n",
        "print(\"Model converted and saved as quantized_rnn_model.tflite\")\n"
      ],
      "metadata": {
        "colab": {
          "base_uri": "https://localhost:8080/"
        },
        "id": "VC-DeRz9G-4H",
        "outputId": "c004336a-baf4-425d-a3b1-a3b90f70a056"
      },
      "execution_count": 6,
      "outputs": [
        {
          "output_type": "stream",
          "name": "stderr",
          "text": [
            "WARNING:absl:Compiled the loaded model, but the compiled metrics have yet to be built. `model.compile_metrics` will be empty until you train or evaluate the model.\n"
          ]
        },
        {
          "output_type": "stream",
          "name": "stdout",
          "text": [
            "Saved artifact at '/tmp/tmpquqgfztt'. The following endpoints are available:\n",
            "\n",
            "* Endpoint 'serve'\n",
            "  args_0 (POSITIONAL_ONLY): TensorSpec(shape=(None, 50, 1), dtype=tf.float32, name='input_layer_1')\n",
            "Output Type:\n",
            "  TensorSpec(shape=(None, 1), dtype=tf.float32, name=None)\n",
            "Captures:\n",
            "  136934375366624: TensorSpec(shape=(), dtype=tf.resource, name=None)\n",
            "  136934395793248: TensorSpec(shape=(), dtype=tf.resource, name=None)\n",
            "  136934375374016: TensorSpec(shape=(), dtype=tf.resource, name=None)\n",
            "  136934375383360: TensorSpec(shape=(), dtype=tf.resource, name=None)\n",
            "  136934375381424: TensorSpec(shape=(), dtype=tf.resource, name=None)\n",
            "Model converted and saved as quantized_rnn_model.tflite\n"
          ]
        }
      ]
    },
    {
      "cell_type": "code",
      "source": [],
      "metadata": {
        "id": "DkoIRVdXHnPr"
      },
      "execution_count": null,
      "outputs": []
    }
  ]
}